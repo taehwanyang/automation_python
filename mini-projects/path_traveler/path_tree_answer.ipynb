{
 "cells": [
  {
   "cell_type": "code",
   "execution_count": 1,
   "id": "8c9ca092",
   "metadata": {},
   "outputs": [],
   "source": [
    "import os"
   ]
  },
  {
   "cell_type": "code",
   "execution_count": 2,
   "id": "6ea78652",
   "metadata": {},
   "outputs": [
    {
     "data": {
      "text/plain": [
       "['path_tree.ipynb', 'root', '.ipynb_checkpoints']"
      ]
     },
     "execution_count": 2,
     "metadata": {},
     "output_type": "execute_result"
    }
   ],
   "source": [
    "os.listdir()"
   ]
  },
  {
   "cell_type": "code",
   "execution_count": 3,
   "id": "601ed98f",
   "metadata": {},
   "outputs": [
    {
     "data": {
      "text/plain": [
       "False"
      ]
     },
     "execution_count": 3,
     "metadata": {},
     "output_type": "execute_result"
    }
   ],
   "source": [
    "os.path.isfile('root')"
   ]
  },
  {
   "cell_type": "code",
   "execution_count": 4,
   "id": "99f9780b",
   "metadata": {},
   "outputs": [
    {
     "data": {
      "text/plain": [
       "True"
      ]
     },
     "execution_count": 4,
     "metadata": {},
     "output_type": "execute_result"
    }
   ],
   "source": [
    "os.path.isdir('root')"
   ]
  },
  {
   "cell_type": "code",
   "execution_count": 5,
   "id": "f835021a",
   "metadata": {},
   "outputs": [
    {
     "data": {
      "text/plain": [
       "'root/leaf'"
      ]
     },
     "execution_count": 5,
     "metadata": {},
     "output_type": "execute_result"
    }
   ],
   "source": [
    "os.path.join('root', 'leaf')"
   ]
  },
  {
   "cell_type": "code",
   "execution_count": 6,
   "id": "ccb05688",
   "metadata": {},
   "outputs": [
    {
     "name": "stdout",
     "output_type": "stream",
     "text": [
      "root/leaf is a directory\n",
      "root/test1.txt is a file\n",
      "root/test2.txt is a file\n"
     ]
    }
   ],
   "source": [
    "for f in os.listdir('root'):\n",
    "    f = os.path.join('root', f)\n",
    "    if os.path.isdir(f):\n",
    "        print(f'{f} is a directory')\n",
    "    elif os.path.isfile(f):\n",
    "        print(f'{f} is a file')"
   ]
  },
  {
   "cell_type": "code",
   "execution_count": 7,
   "id": "794b6669",
   "metadata": {},
   "outputs": [],
   "source": [
    "def path_tree(path):\n",
    "    file_list = os.listdir(path)\n",
    "    for file in file_list:\n",
    "        file = os.path.join(path, file)\n",
    "        if os.path.isfile(file):\n",
    "            print(f'{file} is a file')\n",
    "        elif os.path.isdir(file):\n",
    "            print(f'{file} is a directory')\n",
    "            path_tree(file)"
   ]
  },
  {
   "cell_type": "code",
   "execution_count": 8,
   "id": "15eba8d9",
   "metadata": {},
   "outputs": [
    {
     "name": "stdout",
     "output_type": "stream",
     "text": [
      "root/leaf is a directory\n",
      "root/leaf/test3.txt is a file\n",
      "root/test1.txt is a file\n",
      "root/test2.txt is a file\n"
     ]
    }
   ],
   "source": [
    "path_tree('root')"
   ]
  },
  {
   "cell_type": "code",
   "execution_count": null,
   "id": "64a015c2",
   "metadata": {},
   "outputs": [],
   "source": []
  }
 ],
 "metadata": {
  "kernelspec": {
   "display_name": "Python 3 (ipykernel)",
   "language": "python",
   "name": "python3"
  },
  "language_info": {
   "codemirror_mode": {
    "name": "ipython",
    "version": 3
   },
   "file_extension": ".py",
   "mimetype": "text/x-python",
   "name": "python",
   "nbconvert_exporter": "python",
   "pygments_lexer": "ipython3",
   "version": "3.10.9"
  }
 },
 "nbformat": 4,
 "nbformat_minor": 5
}
