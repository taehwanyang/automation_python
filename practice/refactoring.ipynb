{
 "cells": [
  {
   "cell_type": "markdown",
   "id": "3dd84aac",
   "metadata": {},
   "source": [
    "### pyautogui의 write() 함수에서 한글이 출력되지 않는 문제"
   ]
  },
  {
   "cell_type": "code",
   "execution_count": 1,
   "id": "afdfc4b7",
   "metadata": {},
   "outputs": [],
   "source": [
    "import pyautogui as gui"
   ]
  },
  {
   "cell_type": "code",
   "execution_count": 3,
   "id": "620520a6",
   "metadata": {},
   "outputs": [],
   "source": [
    "# 출력 안됨\n",
    "gui.write('파이썬은 멋져')"
   ]
  },
  {
   "cell_type": "markdown",
   "id": "e705d05b",
   "metadata": {},
   "source": [
    "### First Solution\n",
    "##### pyperclip을 이용한 wrapping 함수를 만들자."
   ]
  },
  {
   "cell_type": "code",
   "execution_count": 4,
   "id": "dd133526",
   "metadata": {},
   "outputs": [],
   "source": [
    "def write(s):\n",
    "    '''\n",
    "    write(s : string) -> None\n",
    "    커서가 있는 곳에 문자열을 출력합니다.\n",
    "    Args:\n",
    "      s : 문자열(영어든 한글이든 영어 + 한글 조합이든 잘 작동합니다.)\n",
    "    Return:\n",
    "      None\n",
    "    '''\n",
    "    import pyautogui as gui\n",
    "    import pyperclip\n",
    "    pyperclip.copy(s)\n",
    "    gui.hotkey('ctrl', 'v')"
   ]
  },
  {
   "cell_type": "markdown",
   "id": "409be4a7",
   "metadata": {},
   "source": [
    "### Second Solution \n",
    "##### 가정 : 만약 영어 문자열이 90% 이상 나오고 이때 pyautogui의 write 함수 성능이 월등히 좋다면?"
   ]
  },
  {
   "cell_type": "code",
   "execution_count": 8,
   "id": "11a5e73e",
   "metadata": {},
   "outputs": [],
   "source": [
    "def write(s):\n",
    "    '''\n",
    "    write(s : string) -> None\n",
    "    커서가 있는 곳에 문자열을 출력합니다.\n",
    "    Args:\n",
    "      s : 문자열(영어든 한글이든 영어 + 한글 조합이든 잘 작동합니다.)\n",
    "    Return:\n",
    "      None\n",
    "    '''\n",
    "    import pyautogui as gui\n",
    "    if s.isalpha():\n",
    "        gui.write(s)\n",
    "    else:\n",
    "        import pyperclip\n",
    "        pyperclip.copy(s)\n",
    "        gui.hotkey('ctrl', 'v')"
   ]
  },
  {
   "cell_type": "markdown",
   "id": "3a9a22b8",
   "metadata": {},
   "source": [
    "### Third Solution\n",
    "##### 가정 : 만약 string의 isalpha() 함수가 엄청나게 느리다면?"
   ]
  },
  {
   "cell_type": "code",
   "execution_count": 17,
   "id": "8d3fa0a1",
   "metadata": {},
   "outputs": [],
   "source": [
    "def write(s):\n",
    "    '''\n",
    "    write(s : string) -> None\n",
    "    커서가 있는 곳에 문자열을 출력합니다.\n",
    "    Args:\n",
    "      s : 문자열(영어든 한글이든 영어 + 한글 조합이든 잘 작동합니다.)\n",
    "    Return:\n",
    "      None\n",
    "    '''\n",
    "    def isalpha(s):\n",
    "        import string\n",
    "        result = True\n",
    "        for c in s:\n",
    "            if not c in string.ascii_letters:\n",
    "                result = False\n",
    "                break\n",
    "        return result\n",
    "    \n",
    "    import pyautogui as gui\n",
    "    if isalpha(s):\n",
    "        gui.write(s)\n",
    "    else:\n",
    "        import pyperclip\n",
    "        pyperclip.copy(s)\n",
    "        gui.hotkey('ctrl', 'v')"
   ]
  }
 ],
 "metadata": {
  "kernelspec": {
   "display_name": "Python 3 (ipykernel)",
   "language": "python",
   "name": "python3"
  },
  "language_info": {
   "codemirror_mode": {
    "name": "ipython",
    "version": 3
   },
   "file_extension": ".py",
   "mimetype": "text/x-python",
   "name": "python",
   "nbconvert_exporter": "python",
   "pygments_lexer": "ipython3",
   "version": "3.10.9"
  }
 },
 "nbformat": 4,
 "nbformat_minor": 5
}
